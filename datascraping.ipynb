{
 "cells": [
  {
   "cell_type": "markdown",
   "metadata": {},
   "source": [
    "### Data Scraping\n",
    "Goal: use Python to scrape Leafly's database to use for qualitative data. Then encode into quantitative data.\n",
    "Reference: https://medium.com/@aandrei_38387/mining-leafly-data-ae87c4b73856 \n",
    "\n",
    "https://github.com/gugarosa/leaflyer"
   ]
  },
  {
   "cell_type": "code",
   "execution_count": 138,
   "metadata": {},
   "outputs": [],
   "source": [
    "import numpy as np\n",
    "import requests\n",
    "from bs4 import BeautifulSoup\n",
    "import json\n",
    "from selenium import webdriver\n",
    "import time"
   ]
  },
  {
   "cell_type": "code",
   "execution_count": 139,
   "metadata": {},
   "outputs": [
    {
     "name": "stdout",
     "output_type": "stream",
     "text": [
      "/strains/wedding-cake\n",
      "/strains/original-glue\n",
      "/strains/runtz\n",
      "/strains/gelato\n",
      "/strains/ice-cream-cake\n",
      "/strains/blue-dream\n",
      "/strains/oreoz\n",
      "/strains/apple-fritter\n",
      "/strains/gary-payton\n",
      "/strains/sour-diesel\n",
      "/strains/zkittlez\n",
      "/strains/jealousy\n",
      "/strains/gsc\n",
      "/strains/og-kush\n",
      "/strains/lemon-cherry-gelato\n",
      "/strains/biscotti\n",
      "/strains/cereal-milk\n",
      "/strains/mac-1\n",
      "18\n"
     ]
    }
   ],
   "source": [
    "#find list of strains\n",
    "base_url = 'https://www.leafly.com/strains/?page=2'\n",
    "response = requests.get(base_url)\n",
    "soup = BeautifulSoup(response.text, \"html.parser\")\n",
    "a = soup.findAll('a', {'data-testid': 'strain-card'})\n",
    "# a['href']\n",
    "for i in a:\n",
    "    print(i['href'])\n",
    "print(len(a))"
   ]
  },
  {
   "cell_type": "code",
   "execution_count": 32,
   "metadata": {},
   "outputs": [],
   "source": [
    "strains = ['og-kush'] #, 'blue-dream', 'sour-diesel','lemon-haze'"
   ]
  },
  {
   "cell_type": "code",
   "execution_count": 115,
   "metadata": {},
   "outputs": [
    {
     "name": "stdout",
     "output_type": "stream",
     "text": [
      "now searching:  https://www.leafly.com/strains/og-kush\n"
     ]
    },
    {
     "data": {
      "text/plain": [
       "{'slug': 'og-kush',\n",
       " 'id': 23,\n",
       " 'rating': 4.273416350839199,\n",
       " 'terpenes': {'caryophyllene': {'name': 'Caryophyllene',\n",
       "   'description': 'Spicy, peppery terpene that may have anti-inflammatory benefits.',\n",
       "   'score': 0.34774035106731},\n",
       "  'humulene': {'name': 'Humulene',\n",
       "   'description': 'Herbal terpene that may provide anti-inflammatory benefits.',\n",
       "   'score': 0.109023651938524},\n",
       "  'limonene': {'name': 'Limonene',\n",
       "   'description': 'Citrus-scented terpene commonly believed to provide anxiety and stress relief.',\n",
       "   'score': 0.389003874216203},\n",
       "  'linalool': {'name': 'Linalool',\n",
       "   'description': 'Floral terpene that is also found in lavender and commonly believed to promote relaxation.',\n",
       "   'score': 0.139208380097903},\n",
       "  'myrcene': {'name': 'Myrcene',\n",
       "   'description': 'The most common terpene found in cannabis and has an earthy scent.',\n",
       "   'score': 0.496960894080617},\n",
       "  'ocimene': {'name': 'Ocimene',\n",
       "   'description': 'Sweet, floral terpene that is commonly used in perfumes.',\n",
       "   'score': 0.0095370948035973},\n",
       "  'pinene': {'name': 'Pinene',\n",
       "   'description': 'Pine-scented terpene that is also found in rosemary and many other herbs.',\n",
       "   'score': 0.153337602313174},\n",
       "  'terpinolene': {'name': 'Terpinolene',\n",
       "   'description': 'Herbal, floral terpene that is also found in apples, lilacs, and nutmeg.',\n",
       "   'score': 0.0137627382279943}},\n",
       " 'symptoms': {'cramps': {'name': 'Cramps',\n",
       "   'score': 0.0404399738975269,\n",
       "   'votes': 161},\n",
       "  'depression': {'name': 'Depression',\n",
       "   'score': 0.166060680976823,\n",
       "   'votes': 1005},\n",
       "  'eyePressure': {'name': 'Eye pressure',\n",
       "   'score': 0.0621664204145825,\n",
       "   'votes': 128},\n",
       "  'fatigue': {'name': 'Fatigue', 'score': 0.0293024039059876, 'votes': 359},\n",
       "  'headaches': {'name': 'Headaches', 'score': 0.30413565768538, 'votes': 446},\n",
       "  'inflammation': {'name': 'Inflammation',\n",
       "   'score': -0.1232878045697,\n",
       "   'votes': 225},\n",
       "  'insomnia': {'name': 'Insomnia', 'score': 0.657966744615284, 'votes': 828},\n",
       "  'lackOfAppetite': {'name': 'Lack of appetite',\n",
       "   'score': 0.224881618283836,\n",
       "   'votes': 480},\n",
       "  'muscleSpasms': {'name': 'Muscle spasms',\n",
       "   'score': 0.117067995021368,\n",
       "   'votes': 299},\n",
       "  'nausea': {'name': 'Nausea', 'score': 0.268556454703378, 'votes': 409},\n",
       "  'pain': {'name': 'Pain', 'score': 0.478158137207345, 'votes': 1117},\n",
       "  'seizures': {'name': 'Seizures', 'score': 0.15952995670017, 'votes': 77},\n",
       "  'spasticity': {'name': 'Spasticity',\n",
       "   'score': 0.0386284938939168,\n",
       "   'votes': 83},\n",
       "  'stress': {'name': 'Stress', 'score': 0.711876678318304, 'votes': 1528}},\n",
       " 'feelings': ['Hungry',\n",
       "  'Sleepy',\n",
       "  'Euphoric',\n",
       "  'Dry mouth',\n",
       "  'Dry eyes',\n",
       "  'Paranoid',\n",
       "  'Pine',\n",
       "  'Woody',\n",
       "  'Earthy'],\n",
       " 'helps_with': [['Stress', '39% '], ['Anxiety', '29% '], ['Pain', '28% ']]}"
      ]
     },
     "execution_count": 115,
     "metadata": {},
     "output_type": "execute_result"
    }
   ],
   "source": [
    "db=[]\n",
    "for strain in (strains):\n",
    "    obj={}\n",
    "    print('now searching: ',base_url+strain)\n",
    "    response = requests.get(base_url+strain)\n",
    "    soup = BeautifulSoup(response.text, \"html.parser\")\n",
    "\n",
    "    #find terpenes\n",
    "    terpenes = soup.find('script',{'id': '__NEXT_DATA__'})\n",
    "    json_data = json.loads(terpenes.contents[0])\n",
    "    # print(json_data['props']['pageProps']['strain']['cannabinoids'])\n",
    "    obj['slug'] = json_data['props']['pageProps']['strain']['slug']\n",
    "    obj['id'] = json_data['props']['pageProps']['strain']['id']\n",
    "    obj['rating'] = json_data['props']['pageProps']['strain']['averageRating']\n",
    "    obj['terpenes'] = json_data['props']['pageProps']['strain']['terps']\n",
    "    obj['symptoms'] = json_data['props']['pageProps']['strain']['symptoms']\n",
    "\n",
    "    #find feelings\n",
    "    feeling_data = soup.findAll(\"p\", {'data-testid': 'item-name'})\n",
    "    feelings = [i.text for i in feeling_data]\n",
    "    obj['feelings'] = feelings\n",
    "\n",
    "    #find helps_with in the form of [attribute, percentage] where percentage of people said it helped with attribute\n",
    "    helps_with = soup.findAll(\"div\",{'id': 'helps-with-section'})\n",
    "    percentages = []\n",
    "    attributes = []\n",
    "    for div in helps_with:\n",
    "        a = div.findAll('a', {'class': 'underline'})\n",
    "        attributes.extend(a)\n",
    "        b = div.findAll('span', {'class': 'font-bold'})\n",
    "        percentages.extend(b)\n",
    "    helps_with = [[attributes[i].text, percentages[i].text] for i in range(len(percentages))]\n",
    "    obj['helps_with'] = helps_with\n",
    "\n",
    "    db.append(obj)"
   ]
  },
  {
   "cell_type": "code",
   "execution_count": null,
   "metadata": {},
   "outputs": [],
   "source": []
  }
 ],
 "metadata": {
  "kernelspec": {
   "display_name": "altum",
   "language": "python",
   "name": "python3"
  },
  "language_info": {
   "codemirror_mode": {
    "name": "ipython",
    "version": 3
   },
   "file_extension": ".py",
   "mimetype": "text/x-python",
   "name": "python",
   "nbconvert_exporter": "python",
   "pygments_lexer": "ipython3",
   "version": "3.10.8"
  },
  "orig_nbformat": 4
 },
 "nbformat": 4,
 "nbformat_minor": 2
}
